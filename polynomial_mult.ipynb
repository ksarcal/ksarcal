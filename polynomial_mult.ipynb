{
 "cells": [
  {
   "cell_type": "markdown",
   "id": "614b8786",
   "metadata": {},
   "source": [
    "# Polynomial Multiplication by Divide and Conquer \n",
    "###\n",
    "\n",
    "We provide python code for multiplying two polynomials by an optimized divide and conquer method  \n"
   ]
  },
  {
   "attachments": {},
   "cell_type": "markdown",
   "id": "2847fbc6",
   "metadata": {},
   "source": [
    "## 1 Theory \n",
    "\n",
    "\n",
    "Given two polynomials `A` and `B`, we can express each of them as a sum of two polynomials as follows:\n",
    "\n",
    "<img src=\"https://i.imgur.com/FjKQF5h.png\" width=\"480\">\n",
    "\n",
    "We need to compute the terms `A0 * B0`, `A1 * B0 + A0 * B1` and `A1 * B1`. This can obviously be done using 4 multiplications, but here's a way of doing it with just three multiplications:\n",
    "\n",
    "<img src=\"https://i.imgur.com/G3vD1GX.png\" width=\"480\">\n",
    "\n",
    "\n",
    "Each of the products can themselves be computed recursively. For a more detailed explanation of this approach see http://www.cse.ust.hk/~dekai/271/notes/L03/L03.pdf .\n",
    "\n",
    "\n"
   ]
  },
  {
   "cell_type": "markdown",
   "id": "d2551b2c",
   "metadata": {},
   "source": [
    "## 2 Provide test examples\n",
    "We'll express our test cases as dictionaries, to test them easily. Each dictionary will contain 2 keys: input (a dictionary itself containing one key for each argument to the function and output (the expected result from the function)."
   ]
  },
  {
   "cell_type": "code",
   "execution_count": 1,
   "id": "e1e29acf",
   "metadata": {},
   "outputs": [],
   "source": [
    "test0 = {\n",
    "    'input': {\n",
    "        'poly1': [2, 0, 5, 7],\n",
    "        'poly2': [-2, 3, 3, 9]\n",
    "        \n",
    "        \n",
    "    },  \n",
    "    \n",
    "    'output': [ -4,     6,    -4,    19,    36,    66,    63]\n",
    "}"
   ]
  },
  {
   "cell_type": "code",
   "execution_count": 2,
   "id": "a959540d",
   "metadata": {},
   "outputs": [],
   "source": [
    " test1 = {\n",
    "    'input': {\n",
    "        'poly1': [2, 0, -1, 4],\n",
    "        'poly2': [12, 3, -3, 4]\n",
    "    },\n",
    "    \n",
    "    \n",
    "    'output': [ 24,     6,   -18,    53,    15,   -16,    16]\n",
    "}"
   ]
  },
  {
   "cell_type": "code",
   "execution_count": 3,
   "id": "4f1c48cb",
   "metadata": {},
   "outputs": [],
   "source": [
    "test2 = {\n",
    "    'input': {\n",
    "        'poly1': [5,     2,     1,     3],\n",
    "        'poly2': [0,  1, 4, -3]\n",
    "        \n",
    "    },\n",
    "   \n",
    "    \n",
    "    'output': [0,     5,    22,    -6,     1,     9,    -9]\n",
    "}"
   ]
  },
  {
   "cell_type": "code",
   "execution_count": 4,
   "id": "f74bc3b0",
   "metadata": {},
   "outputs": [],
   "source": [
    "test3 = {\n",
    "    'input': {\n",
    "        'poly1': [-3, 3, 1, 3],\n",
    "        'poly2': [-5,  3, 4, -3]\n",
    "        \n",
    "    },\n",
    "   \n",
    "    \n",
    "    'output':    [15,   -24,    -8,     9,     4,     9,    -9]\n",
    "}"
   ]
  },
  {
   "cell_type": "code",
   "execution_count": 5,
   "id": "4f80a8ab",
   "metadata": {},
   "outputs": [],
   "source": [
    "test4 = {\n",
    "    'input': {\n",
    "        'poly1': [4, -3, -1, 4, -5],\n",
    "        'poly2': [5, -3,2,-2]\n",
    "    \n",
    "    },\n",
    "    \n",
    "    \n",
    "    \n",
    "    'output': [ 20,   -27,    12,     9,   -33,    25,   -18,    10]\n",
    "}"
   ]
  },
  {
   "cell_type": "code",
   "execution_count": 6,
   "id": "7528b133",
   "metadata": {},
   "outputs": [],
   "source": [
    "test5 = {\n",
    "    'input': {\n",
    "        'poly1': [-4, 5, 2, 3, 6, 7],\n",
    "        'poly2': [-4, 15, 12,  7]\n",
    "       \n",
    "    },\n",
    "   \n",
    "    'output': [16,   -80,   19,    50,   80,   112,   198,  126,    49]\n",
    "}"
   ]
  },
  {
   "cell_type": "code",
   "execution_count": 7,
   "id": "21f3ca37",
   "metadata": {},
   "outputs": [],
   "source": [
    "test6 = {\n",
    "    'input': {\n",
    "        'poly1': [1],\n",
    "        'poly2': [2,6,5,3,4]\n",
    "    },\n",
    "    'output': [2,6,5,3,4]\n",
    "}"
   ]
  },
  {
   "cell_type": "code",
   "execution_count": 8,
   "id": "57a04019",
   "metadata": {},
   "outputs": [],
   "source": [
    "test7 = {\n",
    "    'input': {\n",
    "        'poly1': [0,1],\n",
    "        'poly2': [2,6,-5,3,4]\n",
    "    },\n",
    "    'output': [0,2,6,-5,3,4]\n",
    "}"
   ]
  },
  {
   "cell_type": "code",
   "execution_count": 9,
   "id": "4e16f27b",
   "metadata": {},
   "outputs": [],
   "source": [
    "test8 = {\n",
    "    'input': {\n",
    "        'poly1': [],\n",
    "        'poly2': [2,7,4]\n",
    "    },\n",
    "    'output': []\n",
    "}"
   ]
  },
  {
   "cell_type": "code",
   "execution_count": 10,
   "id": "9b7d2728",
   "metadata": {},
   "outputs": [
    {
     "name": "stdout",
     "output_type": "stream",
     "text": [
      "[{'input': {'poly1': [2, 0, 5, 7], 'poly2': [-2, 3, 3, 9]}, 'output': [-4, 6, -4, 19, 36, 66, 63]}, {'input': {'poly1': [2, 0, -1, 4], 'poly2': [12, 3, -3, 4]}, 'output': [24, 6, -18, 53, 15, -16, 16]}, {'input': {'poly1': [5, 2, 1, 3], 'poly2': [0, 1, 4, -3]}, 'output': [0, 5, 22, -6, 1, 9, -9]}, {'input': {'poly1': [-3, 3, 1, 3], 'poly2': [-5, 3, 4, -3]}, 'output': [15, -24, -8, 9, 4, 9, -9]}, {'input': {'poly1': [4, -3, -1, 4, -5], 'poly2': [5, -3, 2, -2]}, 'output': [20, -27, 12, 9, -33, 25, -18, 10]}, {'input': {'poly1': [-4, 5, 2, 3, 6, 7], 'poly2': [-4, 15, 12, 7]}, 'output': [16, -80, 19, 50, 80, 112, 198, 126, 49]}, {'input': {'poly1': [1], 'poly2': [2, 6, 5, 3, 4]}, 'output': [2, 6, 5, 3, 4]}, {'input': {'poly1': [0, 1], 'poly2': [2, 6, -5, 3, 4]}, 'output': [0, 2, 6, -5, 3, 4]}, {'input': {'poly1': [], 'poly2': [2, 7, 4]}, 'output': []}]\n"
     ]
    }
   ],
   "source": [
    "tests = [test0,test1,test2,test3,test4,test5,test6,test7,test8]\n",
    "print(tests)"
   ]
  },
  {
   "cell_type": "markdown",
   "id": "deef77ed",
   "metadata": {},
   "source": [
    "## 3 Implement the solution and test it using example inputs"
   ]
  },
  {
   "cell_type": "code",
   "execution_count": 11,
   "id": "70f7a2d3",
   "metadata": {},
   "outputs": [],
   "source": [
    "import math\n",
    "import jovian \n",
    "def add(poly1, poly2):\n",
    "    \"\"\"Add two polynomials\"\"\"\n",
    "    result = [0] * max(len(poly1), len(poly2))\n",
    "    for i in range(len(result)):\n",
    "        if i < len(poly1):\n",
    "            result[i] += poly1[i]\n",
    "        if i < len(poly2):\n",
    "            result[i] += poly2[i]\n",
    "    return result"
   ]
  },
  {
   "cell_type": "code",
   "execution_count": 12,
   "id": "caebd275",
   "metadata": {},
   "outputs": [],
   "source": [
    "def split(poly1, poly2):\n",
    "    \"\"\"Split each polynomial into two smaller polynomials\"\"\"\n",
    "    mid = math.floor(max(len(poly1), len(poly2)) // 2)\n",
    "    return  (poly1[:mid], poly1[mid:]), (poly2[:mid], poly2[mid:])"
   ]
  },
  {
   "cell_type": "code",
   "execution_count": 13,
   "id": "ea6c3bf2",
   "metadata": {},
   "outputs": [],
   "source": [
    "def increase_exponent(poly, n):\n",
    "    \"\"\"Multiply poly1 by x^n\"\"\"\n",
    "    return [0] * n + poly"
   ]
  },
  {
   "cell_type": "code",
   "execution_count": 14,
   "id": "fbfb787b",
   "metadata": {},
   "outputs": [],
   "source": [
    "def isZeroPoly(poly):\n",
    "    if poly == []: # Check if poly is blank [] or [0]<= standardize would remove the zero and return []\n",
    "        return True\n",
    "    else:\n",
    "        return False"
   ]
  },
  {
   "cell_type": "code",
   "execution_count": 15,
   "id": "0da1b7aa",
   "metadata": {},
   "outputs": [],
   "source": [
    "def standardize(poly):\n",
    "    poly = list(poly) # make a copy\n",
    "    if poly[len(poly)-1] == 0: # Check if the last element in the list is 0\n",
    "        poly.pop() #If last element is zero, remove from the list\n",
    "    return poly"
   ]
  },
  {
   "cell_type": "code",
   "execution_count": 16,
   "id": "ee182faa",
   "metadata": {},
   "outputs": [],
   "source": [
    "def scalePoly(scale,poly):\n",
    "    poly = list(poly)\n",
    "    for x in range(0,len(poly)): # For final assembly of resulting poly\n",
    "        poly[x] = (poly[x] * scale)\n",
    "    #poly = standardize(poly)\n",
    "    return poly"
   ]
  },
  {
   "cell_type": "code",
   "execution_count": 17,
   "id": "c35b5080",
   "metadata": {},
   "outputs": [],
   "source": [
    "def multiply_optimized(poly1,poly2):\n",
    "    if isZeroPoly(poly1):\n",
    "        return []\n",
    "    else:\n",
    "        if(len(poly1)==1):\n",
    "            return scalePoly(poly1[0],poly2)\n",
    "        elif(len(poly2)==1):\n",
    "            return scalePoly(poly2[0],poly1)\n",
    "        A,B=split(poly1, poly2)\n",
    "        n = math.floor(max(len(poly1), len(poly2)) // 2)\n",
    "        U, Y, Z=multiply_optimized(A[0],B[0]),multiply_optimized( add(A[0],A[1]) ,   add(B[0],B[1])) ,multiply_optimized(A[1],(B[1])) \n",
    "        return standardize(add(add(U, increase_exponent(add(add( Y ,scalePoly(-1,U)),scalePoly(-1,Z)),n)),increase_exponent(Z,2*n)))\n",
    "       "
   ]
  },
  {
   "cell_type": "markdown",
   "id": "2761dff4",
   "metadata": {},
   "source": [
    "## 4 Verify the results from the code "
   ]
  },
  {
   "cell_type": "code",
   "execution_count": 18,
   "id": "bebf00d7",
   "metadata": {},
   "outputs": [
    {
     "name": "stdout",
     "output_type": "stream",
     "text": [
      "\n",
      "\u001b[1mTEST CASE #0\u001b[0m\n",
      "\n",
      "Input:\n",
      "{'poly1': [2, 0, 5, 7], 'poly2': [-2, 3, 3, 9]}\n",
      "\n",
      "Expected Output:\n",
      "[-4, 6, -4, 19, 36, 66, 63]\n",
      "\n",
      "\n",
      "Actual Output:\n",
      "[-4, 6, -4, 19, 36, 66, 63]\n",
      "\n",
      "Execution Time:\n",
      "0.097 ms\n",
      "\n",
      "Test Result:\n",
      "\u001b[92mPASSED\u001b[0m\n",
      "\n",
      "\n",
      "\u001b[1mTEST CASE #1\u001b[0m\n",
      "\n",
      "Input:\n",
      "{'poly1': [2, 0, -1, 4], 'poly2': [12, 3, -3, 4]}\n",
      "\n",
      "Expected Output:\n",
      "[24, 6, -18, 53, 15, -16, 16]\n",
      "\n",
      "\n",
      "Actual Output:\n",
      "[24, 6, -18, 53, 15, -16, 16]\n",
      "\n",
      "Execution Time:\n",
      "0.074 ms\n",
      "\n",
      "Test Result:\n",
      "\u001b[92mPASSED\u001b[0m\n",
      "\n",
      "\n",
      "\u001b[1mTEST CASE #2\u001b[0m\n",
      "\n",
      "Input:\n",
      "{'poly1': [5, 2, 1, 3], 'poly2': [0, 1, 4, -3]}\n",
      "\n",
      "Expected Output:\n",
      "[0, 5, 22, -6, 1, 9, -9]\n",
      "\n",
      "\n",
      "Actual Output:\n",
      "[0, 5, 22, -6, 1, 9, -9]\n",
      "\n",
      "Execution Time:\n",
      "0.077 ms\n",
      "\n",
      "Test Result:\n",
      "\u001b[92mPASSED\u001b[0m\n",
      "\n",
      "\n",
      "\u001b[1mTEST CASE #3\u001b[0m\n",
      "\n",
      "Input:\n",
      "{'poly1': [-3, 3, 1, 3], 'poly2': [-5, 3, 4, -3]}\n",
      "\n",
      "Expected Output:\n",
      "[15, -24, -8, 9, 4, 9, -9]\n",
      "\n",
      "\n",
      "Actual Output:\n",
      "[15, -24, -8, 9, 4, 9, -9]\n",
      "\n",
      "Execution Time:\n",
      "0.084 ms\n",
      "\n",
      "Test Result:\n",
      "\u001b[92mPASSED\u001b[0m\n",
      "\n",
      "\n",
      "\u001b[1mTEST CASE #4\u001b[0m\n",
      "\n",
      "Input:\n",
      "{'poly1': [4, -3, -1, 4, -5], 'poly2': [5, -3, 2, -2]}\n",
      "\n",
      "Expected Output:\n",
      "[20, -27, 12, 9, -33, 25, -18, 10]\n",
      "\n",
      "\n",
      "Actual Output:\n",
      "[20, -27, 12, 9, -33, 25, -18, 10]\n",
      "\n",
      "Execution Time:\n",
      "0.083 ms\n",
      "\n",
      "Test Result:\n",
      "\u001b[92mPASSED\u001b[0m\n",
      "\n",
      "\n",
      "\u001b[1mTEST CASE #5\u001b[0m\n",
      "\n",
      "Input:\n",
      "{'poly1': [-4, 5, 2, 3, 6, 7], 'poly2': [-4, 15, 12, 7]}\n",
      "\n",
      "Expected Output:\n",
      "[16, -80, 19, 50, 80, 112, 198, 126, 49]\n",
      "\n",
      "\n",
      "Actual Output:\n",
      "[16, -80, 19, 50, 80, 112, 198, 126, 49]\n",
      "\n",
      "Execution Time:\n",
      "0.135 ms\n",
      "\n",
      "Test Result:\n",
      "\u001b[92mPASSED\u001b[0m\n",
      "\n",
      "\n",
      "\u001b[1mTEST CASE #6\u001b[0m\n",
      "\n",
      "Input:\n",
      "{'poly1': [1], 'poly2': [2, 6, 5, 3, 4]}\n",
      "\n",
      "Expected Output:\n",
      "[2, 6, 5, 3, 4]\n",
      "\n",
      "\n",
      "Actual Output:\n",
      "[2, 6, 5, 3, 4]\n",
      "\n",
      "Execution Time:\n",
      "0.004 ms\n",
      "\n",
      "Test Result:\n",
      "\u001b[92mPASSED\u001b[0m\n",
      "\n",
      "\n",
      "\u001b[1mTEST CASE #7\u001b[0m\n",
      "\n",
      "Input:\n",
      "{'poly1': [0, 1], 'poly2': [2, 6, -5, 3, 4]}\n",
      "\n",
      "Expected Output:\n",
      "[0, 2, 6, -5, 3, 4]\n",
      "\n",
      "\n",
      "Actual Output:\n",
      "[0, 2, 6, -5, 3, 4]\n",
      "\n",
      "Execution Time:\n",
      "0.059 ms\n",
      "\n",
      "Test Result:\n",
      "\u001b[92mPASSED\u001b[0m\n",
      "\n",
      "\n",
      "\u001b[1mTEST CASE #8\u001b[0m\n",
      "\n",
      "Input:\n",
      "{'poly1': [], 'poly2': [2, 7, 4]}\n",
      "\n",
      "Expected Output:\n",
      "[]\n",
      "\n",
      "\n",
      "Actual Output:\n",
      "[]\n",
      "\n",
      "Execution Time:\n",
      "0.002 ms\n",
      "\n",
      "Test Result:\n",
      "\u001b[92mPASSED\u001b[0m\n",
      "\n",
      "\n",
      "\u001b[1mSUMMARY\u001b[0m\n",
      "\n",
      "TOTAL: 9, \u001b[92mPASSED\u001b[0m: 9, \u001b[91mFAILED\u001b[0m: 0\n"
     ]
    }
   ],
   "source": [
    "from jovian.pythondsa import evaluate_test_cases\n",
    "results = evaluate_test_cases(multiply_optimized, tests)"
   ]
  },
  {
   "cell_type": "code",
   "execution_count": null,
   "id": "187506cc",
   "metadata": {},
   "outputs": [],
   "source": []
  }
 ],
 "metadata": {
  "kernelspec": {
   "display_name": "Python 3",
   "language": "python",
   "name": "python3"
  },
  "language_info": {
   "codemirror_mode": {
    "name": "ipython",
    "version": 3
   },
   "file_extension": ".py",
   "mimetype": "text/x-python",
   "name": "python",
   "nbconvert_exporter": "python",
   "pygments_lexer": "ipython3",
   "version": "3.8.8"
  }
 },
 "nbformat": 4,
 "nbformat_minor": 5
}
